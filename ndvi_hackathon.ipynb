{
 "cells": [
  {
   "cell_type": "code",
   "execution_count": 1,
   "id": "a8cbd0db",
   "metadata": {
    "_cell_guid": "b1076dfc-b9ad-4769-8c92-a6c4dae69d19",
    "_uuid": "8f2839f25d086af736a60e9eeb907d3b93b6e0e5",
    "id": "a8cbd0db",
    "papermill": {
     "duration": 2.406058,
     "end_time": "2025-06-04T15:58:19.106134",
     "exception": false,
     "start_time": "2025-06-04T15:58:16.700076",
     "status": "completed"
    },
    "tags": []
   },
   "outputs": [],
   "source": [
    "# This Python 3 environment comes with many helpful analytics libraries installed\n",
    "# It is defined by the kaggle/python Docker image: https://github.com/kaggle/docker-python\n",
    "# For example, here's several helpful packages to load\n",
    "\n",
    "import numpy as np # linear algebra\n",
    "import pandas as pd # data processing, CSV file I/O (e.g. pd.read_csv)\n",
    "\n",
    "# Input data files are available in the read-only \"../input/\" directory\n",
    "# For example, running this (by clicking run or pressing Shift+Enter) will list all files under the input directory\n",
    "\n",
    "# import os\n",
    "# for dirname, _, filenames in os.walk('/kaggle/input'):\n",
    "#     for filename in filenames:\n",
    "#         print(os.path.join(dirname, filename))\n",
    "\n",
    "# You can write up to 20GB to the current directory (/kaggle/working/) that gets preserved as output when you create a version using \"Save & Run All\"\n",
    "# You can also write temporary files to /kaggle/temp/, but they won't be saved outside of the current session"
   ]
  },
  {
   "cell_type": "code",
   "execution_count": 2,
   "id": "52fc0999",
   "metadata": {
    "id": "52fc0999",
    "outputId": "de902891-8a72-4206-e446-aa6ef962b43f",
    "papermill": {
     "duration": 0.161514,
     "end_time": "2025-06-04T15:58:19.271341",
     "exception": false,
     "start_time": "2025-06-04T15:58:19.109827",
     "status": "completed"
    },
    "tags": []
   },
   "outputs": [
    {
     "data": {
      "text/html": [
       "<div>\n",
       "<style scoped>\n",
       "    .dataframe tbody tr th:only-of-type {\n",
       "        vertical-align: middle;\n",
       "    }\n",
       "\n",
       "    .dataframe tbody tr th {\n",
       "        vertical-align: top;\n",
       "    }\n",
       "\n",
       "    .dataframe thead th {\n",
       "        text-align: right;\n",
       "    }\n",
       "</style>\n",
       "<table border=\"1\" class=\"dataframe\">\n",
       "  <thead>\n",
       "    <tr style=\"text-align: right;\">\n",
       "      <th></th>\n",
       "      <th>Unnamed: 0</th>\n",
       "      <th>ID</th>\n",
       "      <th>class</th>\n",
       "      <th>20150720_N</th>\n",
       "      <th>20150602_N</th>\n",
       "      <th>20150517_N</th>\n",
       "      <th>20150501_N</th>\n",
       "      <th>20150415_N</th>\n",
       "      <th>20150330_N</th>\n",
       "      <th>20150314_N</th>\n",
       "      <th>...</th>\n",
       "      <th>20140610_N</th>\n",
       "      <th>20140525_N</th>\n",
       "      <th>20140509_N</th>\n",
       "      <th>20140423_N</th>\n",
       "      <th>20140407_N</th>\n",
       "      <th>20140322_N</th>\n",
       "      <th>20140218_N</th>\n",
       "      <th>20140202_N</th>\n",
       "      <th>20140117_N</th>\n",
       "      <th>20140101_N</th>\n",
       "    </tr>\n",
       "  </thead>\n",
       "  <tbody>\n",
       "    <tr>\n",
       "      <th>0</th>\n",
       "      <td>0</td>\n",
       "      <td>1</td>\n",
       "      <td>water</td>\n",
       "      <td>637.5950</td>\n",
       "      <td>658.668</td>\n",
       "      <td>-1882.030</td>\n",
       "      <td>-1924.36</td>\n",
       "      <td>997.904</td>\n",
       "      <td>-1739.990</td>\n",
       "      <td>630.087</td>\n",
       "      <td>...</td>\n",
       "      <td>NaN</td>\n",
       "      <td>-1043.160</td>\n",
       "      <td>-1942.490</td>\n",
       "      <td>267.138</td>\n",
       "      <td>NaN</td>\n",
       "      <td>NaN</td>\n",
       "      <td>211.328</td>\n",
       "      <td>-2203.020</td>\n",
       "      <td>-1180.19</td>\n",
       "      <td>433.906</td>\n",
       "    </tr>\n",
       "    <tr>\n",
       "      <th>1</th>\n",
       "      <td>1</td>\n",
       "      <td>2</td>\n",
       "      <td>water</td>\n",
       "      <td>634.2400</td>\n",
       "      <td>593.705</td>\n",
       "      <td>-1625.790</td>\n",
       "      <td>-1672.32</td>\n",
       "      <td>914.198</td>\n",
       "      <td>-692.386</td>\n",
       "      <td>707.626</td>\n",
       "      <td>...</td>\n",
       "      <td>NaN</td>\n",
       "      <td>-933.934</td>\n",
       "      <td>-625.385</td>\n",
       "      <td>120.059</td>\n",
       "      <td>364.858</td>\n",
       "      <td>476.972</td>\n",
       "      <td>220.878</td>\n",
       "      <td>-2250.000</td>\n",
       "      <td>-1360.56</td>\n",
       "      <td>524.075</td>\n",
       "    </tr>\n",
       "    <tr>\n",
       "      <th>2</th>\n",
       "      <td>3</td>\n",
       "      <td>4</td>\n",
       "      <td>water</td>\n",
       "      <td>58.0174</td>\n",
       "      <td>-1599.160</td>\n",
       "      <td>NaN</td>\n",
       "      <td>-1052.63</td>\n",
       "      <td>NaN</td>\n",
       "      <td>-1564.630</td>\n",
       "      <td>NaN</td>\n",
       "      <td>...</td>\n",
       "      <td>-1025.880</td>\n",
       "      <td>368.622</td>\n",
       "      <td>NaN</td>\n",
       "      <td>-1227.800</td>\n",
       "      <td>304.621</td>\n",
       "      <td>NaN</td>\n",
       "      <td>369.214</td>\n",
       "      <td>-2202.120</td>\n",
       "      <td>NaN</td>\n",
       "      <td>-1343.550</td>\n",
       "    </tr>\n",
       "    <tr>\n",
       "      <th>3</th>\n",
       "      <td>4</td>\n",
       "      <td>5</td>\n",
       "      <td>water</td>\n",
       "      <td>72.5180</td>\n",
       "      <td>NaN</td>\n",
       "      <td>380.436</td>\n",
       "      <td>-1256.93</td>\n",
       "      <td>515.805</td>\n",
       "      <td>-1413.180</td>\n",
       "      <td>-802.942</td>\n",
       "      <td>...</td>\n",
       "      <td>-1813.950</td>\n",
       "      <td>155.624</td>\n",
       "      <td>NaN</td>\n",
       "      <td>-924.073</td>\n",
       "      <td>432.150</td>\n",
       "      <td>282.833</td>\n",
       "      <td>298.320</td>\n",
       "      <td>-2197.360</td>\n",
       "      <td>NaN</td>\n",
       "      <td>-826.727</td>\n",
       "    </tr>\n",
       "    <tr>\n",
       "      <th>4</th>\n",
       "      <td>7</td>\n",
       "      <td>8</td>\n",
       "      <td>water</td>\n",
       "      <td>1136.4400</td>\n",
       "      <td>NaN</td>\n",
       "      <td>NaN</td>\n",
       "      <td>1647.83</td>\n",
       "      <td>1935.800</td>\n",
       "      <td>NaN</td>\n",
       "      <td>2158.980</td>\n",
       "      <td>...</td>\n",
       "      <td>1535.000</td>\n",
       "      <td>1959.430</td>\n",
       "      <td>-279.317</td>\n",
       "      <td>-384.915</td>\n",
       "      <td>-113.406</td>\n",
       "      <td>1020.720</td>\n",
       "      <td>1660.650</td>\n",
       "      <td>-116.801</td>\n",
       "      <td>-568.05</td>\n",
       "      <td>-1357.140</td>\n",
       "    </tr>\n",
       "    <tr>\n",
       "      <th>...</th>\n",
       "      <td>...</td>\n",
       "      <td>...</td>\n",
       "      <td>...</td>\n",
       "      <td>...</td>\n",
       "      <td>...</td>\n",
       "      <td>...</td>\n",
       "      <td>...</td>\n",
       "      <td>...</td>\n",
       "      <td>...</td>\n",
       "      <td>...</td>\n",
       "      <td>...</td>\n",
       "      <td>...</td>\n",
       "      <td>...</td>\n",
       "      <td>...</td>\n",
       "      <td>...</td>\n",
       "      <td>...</td>\n",
       "      <td>...</td>\n",
       "      <td>...</td>\n",
       "      <td>...</td>\n",
       "      <td>...</td>\n",
       "      <td>...</td>\n",
       "    </tr>\n",
       "    <tr>\n",
       "      <th>7995</th>\n",
       "      <td>10537</td>\n",
       "      <td>10538</td>\n",
       "      <td>impervious</td>\n",
       "      <td>1207.7000</td>\n",
       "      <td>984.620</td>\n",
       "      <td>NaN</td>\n",
       "      <td>1166.25</td>\n",
       "      <td>937.478</td>\n",
       "      <td>1072.700</td>\n",
       "      <td>823.896</td>\n",
       "      <td>...</td>\n",
       "      <td>1117.740</td>\n",
       "      <td>1176.600</td>\n",
       "      <td>1044.110</td>\n",
       "      <td>NaN</td>\n",
       "      <td>369.082</td>\n",
       "      <td>465.843</td>\n",
       "      <td>362.882</td>\n",
       "      <td>979.795</td>\n",
       "      <td>NaN</td>\n",
       "      <td>433.659</td>\n",
       "    </tr>\n",
       "    <tr>\n",
       "      <th>7996</th>\n",
       "      <td>10538</td>\n",
       "      <td>10539</td>\n",
       "      <td>impervious</td>\n",
       "      <td>2170.3500</td>\n",
       "      <td>1419.720</td>\n",
       "      <td>1361.000</td>\n",
       "      <td>1478.71</td>\n",
       "      <td>983.911</td>\n",
       "      <td>1262.110</td>\n",
       "      <td>1422.860</td>\n",
       "      <td>...</td>\n",
       "      <td>984.634</td>\n",
       "      <td>2128.970</td>\n",
       "      <td>1379.660</td>\n",
       "      <td>NaN</td>\n",
       "      <td>762.633</td>\n",
       "      <td>485.204</td>\n",
       "      <td>446.724</td>\n",
       "      <td>771.747</td>\n",
       "      <td>1589.06</td>\n",
       "      <td>506.936</td>\n",
       "    </tr>\n",
       "    <tr>\n",
       "      <th>7997</th>\n",
       "      <td>10541</td>\n",
       "      <td>10542</td>\n",
       "      <td>impervious</td>\n",
       "      <td>1895.6800</td>\n",
       "      <td>1454.740</td>\n",
       "      <td>NaN</td>\n",
       "      <td>1033.56</td>\n",
       "      <td>1930.380</td>\n",
       "      <td>1057.150</td>\n",
       "      <td>1471.600</td>\n",
       "      <td>...</td>\n",
       "      <td>888.408</td>\n",
       "      <td>2093.020</td>\n",
       "      <td>1232.110</td>\n",
       "      <td>1190.830</td>\n",
       "      <td>1441.460</td>\n",
       "      <td>1170.880</td>\n",
       "      <td>1095.000</td>\n",
       "      <td>1818.650</td>\n",
       "      <td>2501.72</td>\n",
       "      <td>1247.770</td>\n",
       "    </tr>\n",
       "    <tr>\n",
       "      <th>7998</th>\n",
       "      <td>10542</td>\n",
       "      <td>10543</td>\n",
       "      <td>impervious</td>\n",
       "      <td>3465.7400</td>\n",
       "      <td>1283.320</td>\n",
       "      <td>413.412</td>\n",
       "      <td>4391.05</td>\n",
       "      <td>1146.820</td>\n",
       "      <td>4473.050</td>\n",
       "      <td>1614.750</td>\n",
       "      <td>...</td>\n",
       "      <td>5833.760</td>\n",
       "      <td>4047.320</td>\n",
       "      <td>4515.800</td>\n",
       "      <td>433.177</td>\n",
       "      <td>277.296</td>\n",
       "      <td>744.143</td>\n",
       "      <td>NaN</td>\n",
       "      <td>3759.710</td>\n",
       "      <td>NaN</td>\n",
       "      <td>388.346</td>\n",
       "    </tr>\n",
       "    <tr>\n",
       "      <th>7999</th>\n",
       "      <td>10544</td>\n",
       "      <td>10545</td>\n",
       "      <td>impervious</td>\n",
       "      <td>6941.1900</td>\n",
       "      <td>1667.870</td>\n",
       "      <td>5084.780</td>\n",
       "      <td>NaN</td>\n",
       "      <td>1588.950</td>\n",
       "      <td>5978.190</td>\n",
       "      <td>NaN</td>\n",
       "      <td>...</td>\n",
       "      <td>7352.570</td>\n",
       "      <td>3289.860</td>\n",
       "      <td>3729.150</td>\n",
       "      <td>1994.980</td>\n",
       "      <td>NaN</td>\n",
       "      <td>5299.900</td>\n",
       "      <td>NaN</td>\n",
       "      <td>5983.130</td>\n",
       "      <td>1249.71</td>\n",
       "      <td>2424.230</td>\n",
       "    </tr>\n",
       "  </tbody>\n",
       "</table>\n",
       "<p>8000 rows × 30 columns</p>\n",
       "</div>"
      ],
      "text/plain": [
       "      Unnamed: 0     ID       class  20150720_N  20150602_N  20150517_N  \\\n",
       "0              0      1       water    637.5950     658.668   -1882.030   \n",
       "1              1      2       water    634.2400     593.705   -1625.790   \n",
       "2              3      4       water     58.0174   -1599.160         NaN   \n",
       "3              4      5       water     72.5180         NaN     380.436   \n",
       "4              7      8       water   1136.4400         NaN         NaN   \n",
       "...          ...    ...         ...         ...         ...         ...   \n",
       "7995       10537  10538  impervious   1207.7000     984.620         NaN   \n",
       "7996       10538  10539  impervious   2170.3500    1419.720    1361.000   \n",
       "7997       10541  10542  impervious   1895.6800    1454.740         NaN   \n",
       "7998       10542  10543  impervious   3465.7400    1283.320     413.412   \n",
       "7999       10544  10545  impervious   6941.1900    1667.870    5084.780   \n",
       "\n",
       "      20150501_N  20150415_N  20150330_N  20150314_N  ...  20140610_N  \\\n",
       "0       -1924.36     997.904   -1739.990     630.087  ...         NaN   \n",
       "1       -1672.32     914.198    -692.386     707.626  ...         NaN   \n",
       "2       -1052.63         NaN   -1564.630         NaN  ...   -1025.880   \n",
       "3       -1256.93     515.805   -1413.180    -802.942  ...   -1813.950   \n",
       "4        1647.83    1935.800         NaN    2158.980  ...    1535.000   \n",
       "...          ...         ...         ...         ...  ...         ...   \n",
       "7995     1166.25     937.478    1072.700     823.896  ...    1117.740   \n",
       "7996     1478.71     983.911    1262.110    1422.860  ...     984.634   \n",
       "7997     1033.56    1930.380    1057.150    1471.600  ...     888.408   \n",
       "7998     4391.05    1146.820    4473.050    1614.750  ...    5833.760   \n",
       "7999         NaN    1588.950    5978.190         NaN  ...    7352.570   \n",
       "\n",
       "      20140525_N  20140509_N  20140423_N  20140407_N  20140322_N  20140218_N  \\\n",
       "0      -1043.160   -1942.490     267.138         NaN         NaN     211.328   \n",
       "1       -933.934    -625.385     120.059     364.858     476.972     220.878   \n",
       "2        368.622         NaN   -1227.800     304.621         NaN     369.214   \n",
       "3        155.624         NaN    -924.073     432.150     282.833     298.320   \n",
       "4       1959.430    -279.317    -384.915    -113.406    1020.720    1660.650   \n",
       "...          ...         ...         ...         ...         ...         ...   \n",
       "7995    1176.600    1044.110         NaN     369.082     465.843     362.882   \n",
       "7996    2128.970    1379.660         NaN     762.633     485.204     446.724   \n",
       "7997    2093.020    1232.110    1190.830    1441.460    1170.880    1095.000   \n",
       "7998    4047.320    4515.800     433.177     277.296     744.143         NaN   \n",
       "7999    3289.860    3729.150    1994.980         NaN    5299.900         NaN   \n",
       "\n",
       "      20140202_N  20140117_N  20140101_N  \n",
       "0      -2203.020    -1180.19     433.906  \n",
       "1      -2250.000    -1360.56     524.075  \n",
       "2      -2202.120         NaN   -1343.550  \n",
       "3      -2197.360         NaN    -826.727  \n",
       "4       -116.801     -568.05   -1357.140  \n",
       "...          ...         ...         ...  \n",
       "7995     979.795         NaN     433.659  \n",
       "7996     771.747     1589.06     506.936  \n",
       "7997    1818.650     2501.72    1247.770  \n",
       "7998    3759.710         NaN     388.346  \n",
       "7999    5983.130     1249.71    2424.230  \n",
       "\n",
       "[8000 rows x 30 columns]"
      ]
     },
     "execution_count": 2,
     "metadata": {},
     "output_type": "execute_result"
    }
   ],
   "source": [
    "df = pd.read_csv(\"hacktrain.csv\")\n",
    "df"
   ]
  },
  {
   "cell_type": "code",
   "execution_count": 3,
   "id": "7f7f7f55-4a77-4ec1-8f4c-12bd15774f48",
   "metadata": {},
   "outputs": [
    {
     "data": {
      "text/plain": [
       "(8000, 30)"
      ]
     },
     "execution_count": 3,
     "metadata": {},
     "output_type": "execute_result"
    }
   ],
   "source": [
    "df.shape"
   ]
  },
  {
   "cell_type": "code",
   "execution_count": 4,
   "id": "92e3be16",
   "metadata": {
    "id": "92e3be16",
    "outputId": "ec1d18ce-03bc-409f-ecd6-6a554b0ab660",
    "papermill": {
     "duration": 0.023701,
     "end_time": "2025-06-04T15:58:19.299357",
     "exception": false,
     "start_time": "2025-06-04T15:58:19.275656",
     "status": "completed"
    },
    "tags": []
   },
   "outputs": [
    {
     "data": {
      "text/plain": [
       "Unnamed: 0       0\n",
       "ID               0\n",
       "class            0\n",
       "20150720_N     560\n",
       "20150602_N    1200\n",
       "20150517_N     800\n",
       "20150501_N     960\n",
       "20150415_N     480\n",
       "20150330_N    1120\n",
       "20150314_N     720\n",
       "20150226_N    1360\n",
       "20150210_N     640\n",
       "20150125_N    1040\n",
       "20150109_N     880\n",
       "20141117_N    1280\n",
       "20141101_N     400\n",
       "20141016_N    1440\n",
       "20140930_N     800\n",
       "20140813_N     560\n",
       "20140626_N    1600\n",
       "20140610_N     480\n",
       "20140525_N     720\n",
       "20140509_N     880\n",
       "20140423_N    1760\n",
       "20140407_N     640\n",
       "20140322_N    1120\n",
       "20140218_N    1440\n",
       "20140202_N     560\n",
       "20140117_N    1200\n",
       "20140101_N     400\n",
       "dtype: int64"
      ]
     },
     "execution_count": 4,
     "metadata": {},
     "output_type": "execute_result"
    }
   ],
   "source": [
    "df.isnull().sum()"
   ]
  },
  {
   "cell_type": "code",
   "execution_count": 5,
   "id": "8646c661",
   "metadata": {
    "id": "8646c661",
    "outputId": "4b3ca413-a63e-4833-e0b2-9146a627e580",
    "papermill": {
     "duration": 0.037963,
     "end_time": "2025-06-04T15:58:19.341331",
     "exception": false,
     "start_time": "2025-06-04T15:58:19.303368",
     "status": "completed"
    },
    "scrolled": true,
    "tags": []
   },
   "outputs": [
    {
     "data": {
      "text/plain": [
       "Unnamed: 0    0\n",
       "ID            0\n",
       "class         0\n",
       "20150720_N    0\n",
       "20150602_N    0\n",
       "20150517_N    0\n",
       "20150501_N    0\n",
       "20150415_N    0\n",
       "20150330_N    0\n",
       "20150314_N    0\n",
       "20150226_N    0\n",
       "20150210_N    0\n",
       "20150125_N    0\n",
       "20150109_N    0\n",
       "20141117_N    0\n",
       "20141101_N    0\n",
       "20141016_N    0\n",
       "20140930_N    0\n",
       "20140813_N    0\n",
       "20140626_N    0\n",
       "20140610_N    0\n",
       "20140525_N    0\n",
       "20140509_N    0\n",
       "20140423_N    0\n",
       "20140407_N    0\n",
       "20140322_N    0\n",
       "20140218_N    0\n",
       "20140202_N    0\n",
       "20140117_N    0\n",
       "20140101_N    0\n",
       "dtype: int64"
      ]
     },
     "execution_count": 5,
     "metadata": {},
     "output_type": "execute_result"
    }
   ],
   "source": [
    "df.fillna(df.median(numeric_only=True), inplace=True) #simple mean imputation [This part has a lot of scope for imporovement.]\n",
    "#keep in mind that the data is inherently noisy and the test dataset is not.\n",
    "df.isnull().sum()"
   ]
  },
  {
   "cell_type": "code",
   "execution_count": 6,
   "id": "400496af-d081-4ca0-a65f-7c82160d4961",
   "metadata": {
    "id": "c5a6f9fa",
    "outputId": "7d984883-4734-44d1-f088-aef59d270605",
    "papermill": {
     "duration": 2.652139,
     "end_time": "2025-06-04T15:58:21.997405",
     "exception": false,
     "start_time": "2025-06-04T15:58:19.345266",
     "status": "completed"
    },
    "tags": []
   },
   "outputs": [
    {
     "name": "stderr",
     "output_type": "stream",
     "text": [
      "C:\\Users\\ansh_\\anaconda3\\Lib\\site-packages\\sklearn\\linear_model\\_logistic.py:1247: FutureWarning: 'multi_class' was deprecated in version 1.5 and will be removed in 1.7. From then on, it will always use 'multinomial'. Leave it to its default value to avoid this warning.\n",
      "  warnings.warn(\n"
     ]
    },
    {
     "name": "stdout",
     "output_type": "stream",
     "text": [
      "              precision    recall  f1-score   support\n",
      "\n",
      "        farm       0.77      0.79      0.78       168\n",
      "      forest       0.98      0.99      0.98      1232\n",
      "       grass       0.62      0.46      0.53        39\n",
      "  impervious       0.75      0.82      0.79       134\n",
      "     orchard       0.50      0.17      0.25         6\n",
      "       water       0.92      0.52      0.67        21\n",
      "\n",
      "    accuracy                           0.93      1600\n",
      "   macro avg       0.76      0.63      0.67      1600\n",
      "weighted avg       0.93      0.93      0.93      1600\n",
      "\n"
     ]
    },
    {
     "name": "stderr",
     "output_type": "stream",
     "text": [
      "C:\\Users\\ansh_\\anaconda3\\Lib\\site-packages\\sklearn\\linear_model\\_sag.py:349: ConvergenceWarning: The max_iter was reached which means the coef_ did not converge\n",
      "  warnings.warn(\n"
     ]
    }
   ],
   "source": [
    "import pandas as pd\n",
    "from sklearn.linear_model import LogisticRegression\n",
    "from sklearn.model_selection import train_test_split\n",
    "from sklearn.preprocessing import LabelEncoder\n",
    "from sklearn.metrics import classification_report\n",
    "\n",
    "# Drop ID column\n",
    "df.drop(columns=['ID'], inplace=True)\n",
    "\n",
    "# Encode class column (if it's categorical)\n",
    "label_encoder = LabelEncoder()\n",
    "df['class'] = label_encoder.fit_transform(df['class'])\n",
    "\n",
    "# Split into features and target\n",
    "X = df.drop(columns=['class'])\n",
    "y = df['class']\n",
    "\n",
    "# Train-test split\n",
    "X_train, X_test, y_train, y_test = train_test_split(\n",
    "    X, y, test_size=0.2, random_state=42, stratify=y)\n",
    "\n",
    "# Fit multinomial logistic regression\n",
    "model = LogisticRegression(\n",
    "    multi_class='multinomial',\n",
    "    solver='saga',\n",
    "    max_iter=200)\n",
    "    # class_weight='balanced'\n",
    "\n",
    "model.fit(X_train, y_train)\n",
    "\n",
    "# Predict on test set\n",
    "y_pred = model.predict(X_test)\n",
    "\n",
    "# Classification report with all original class labels\n",
    "print(classification_report(\n",
    "    y_test,\n",
    "    y_pred,\n",
    "    labels=list(range(len(label_encoder.classes_))),\n",
    "    target_names=label_encoder.classes_\n",
    "))\n"
   ]
  },
  {
   "cell_type": "code",
   "execution_count": 7,
   "id": "ff1cd1b8",
   "metadata": {
    "id": "ff1cd1b8",
    "outputId": "ec24dc17-7123-4b89-8c80-7f440a31e2b7",
    "papermill": {
     "duration": 0.068872,
     "end_time": "2025-06-04T15:58:22.072964",
     "exception": false,
     "start_time": "2025-06-04T15:58:22.004092",
     "status": "completed"
    },
    "tags": []
   },
   "outputs": [
    {
     "data": {
      "text/plain": [
       "(2845, 29)"
      ]
     },
     "execution_count": 7,
     "metadata": {},
     "output_type": "execute_result"
    }
   ],
   "source": [
    "test_data = pd.read_csv(\"hacktest.csv\")\n",
    "test_data.shape"
   ]
  },
  {
   "cell_type": "code",
   "execution_count": 8,
   "id": "ac73a96b",
   "metadata": {
    "id": "ac73a96b",
    "papermill": {
     "duration": 0.013382,
     "end_time": "2025-06-04T15:58:22.091265",
     "exception": false,
     "start_time": "2025-06-04T15:58:22.077883",
     "status": "completed"
    },
    "tags": []
   },
   "outputs": [],
   "source": [
    "ID=test_data['ID']\n",
    "test_data.drop(['ID'],axis=1,inplace=True)"
   ]
  },
  {
   "cell_type": "code",
   "execution_count": 9,
   "id": "e65b77a4",
   "metadata": {
    "id": "e65b77a4",
    "papermill": {
     "duration": 0.013618,
     "end_time": "2025-06-04T15:58:22.109275",
     "exception": false,
     "start_time": "2025-06-04T15:58:22.095657",
     "status": "completed"
    },
    "tags": []
   },
   "outputs": [],
   "source": [
    "y_test = model.predict(test_data)"
   ]
  },
  {
   "cell_type": "code",
   "execution_count": 10,
   "id": "44be4c4c",
   "metadata": {
    "id": "44be4c4c",
    "outputId": "821c27dc-a74e-457c-e9fc-a8c86a563ca7",
    "papermill": {
     "duration": 0.01289,
     "end_time": "2025-06-04T15:58:22.126324",
     "exception": false,
     "start_time": "2025-06-04T15:58:22.113434",
     "status": "completed"
    },
    "tags": []
   },
   "outputs": [
    {
     "data": {
      "text/plain": [
       "array([1, 1, 1, ..., 3, 3, 3])"
      ]
     },
     "execution_count": 10,
     "metadata": {},
     "output_type": "execute_result"
    }
   ],
   "source": [
    "y_test"
   ]
  },
  {
   "cell_type": "code",
   "execution_count": 11,
   "id": "aeee262b",
   "metadata": {
    "id": "aeee262b",
    "outputId": "f657b1cc-3f0c-4a94-d735-60577438a678",
    "papermill": {
     "duration": 0.013121,
     "end_time": "2025-06-04T15:58:22.143689",
     "exception": false,
     "start_time": "2025-06-04T15:58:22.130568",
     "status": "completed"
    },
    "tags": []
   },
   "outputs": [
    {
     "data": {
      "text/plain": [
       "array(['forest', 'forest', 'forest', ..., 'impervious', 'impervious',\n",
       "       'impervious'], dtype=object)"
      ]
     },
     "execution_count": 11,
     "metadata": {},
     "output_type": "execute_result"
    }
   ],
   "source": [
    "y_decoded = label_encoder.inverse_transform(y_test)\n",
    "y_decoded"
   ]
  },
  {
   "cell_type": "code",
   "execution_count": 12,
   "id": "e10db231",
   "metadata": {
    "id": "e10db231",
    "papermill": {
     "duration": 0.012481,
     "end_time": "2025-06-04T15:58:22.160251",
     "exception": false,
     "start_time": "2025-06-04T15:58:22.147770",
     "status": "completed"
    },
    "tags": []
   },
   "outputs": [],
   "source": [
    "result = pd.DataFrame({\n",
    "    'ID': ID,\n",
    "    'class': y_decoded\n",
    "})"
   ]
  },
  {
   "cell_type": "code",
   "execution_count": 13,
   "id": "9906b67f",
   "metadata": {
    "id": "9906b67f",
    "outputId": "c48996da-9b96-4cdc-c861-f5b195a4c551",
    "papermill": {
     "duration": 0.01673,
     "end_time": "2025-06-04T15:58:22.181310",
     "exception": false,
     "start_time": "2025-06-04T15:58:22.164580",
     "status": "completed"
    },
    "tags": []
   },
   "outputs": [
    {
     "data": {
      "text/html": [
       "<div>\n",
       "<style scoped>\n",
       "    .dataframe tbody tr th:only-of-type {\n",
       "        vertical-align: middle;\n",
       "    }\n",
       "\n",
       "    .dataframe tbody tr th {\n",
       "        vertical-align: top;\n",
       "    }\n",
       "\n",
       "    .dataframe thead th {\n",
       "        text-align: right;\n",
       "    }\n",
       "</style>\n",
       "<table border=\"1\" class=\"dataframe\">\n",
       "  <thead>\n",
       "    <tr style=\"text-align: right;\">\n",
       "      <th></th>\n",
       "      <th>ID</th>\n",
       "      <th>class</th>\n",
       "    </tr>\n",
       "  </thead>\n",
       "  <tbody>\n",
       "    <tr>\n",
       "      <th>0</th>\n",
       "      <td>1</td>\n",
       "      <td>forest</td>\n",
       "    </tr>\n",
       "    <tr>\n",
       "      <th>1</th>\n",
       "      <td>2</td>\n",
       "      <td>forest</td>\n",
       "    </tr>\n",
       "    <tr>\n",
       "      <th>2</th>\n",
       "      <td>3</td>\n",
       "      <td>forest</td>\n",
       "    </tr>\n",
       "    <tr>\n",
       "      <th>3</th>\n",
       "      <td>4</td>\n",
       "      <td>forest</td>\n",
       "    </tr>\n",
       "    <tr>\n",
       "      <th>4</th>\n",
       "      <td>5</td>\n",
       "      <td>forest</td>\n",
       "    </tr>\n",
       "    <tr>\n",
       "      <th>...</th>\n",
       "      <td>...</td>\n",
       "      <td>...</td>\n",
       "    </tr>\n",
       "    <tr>\n",
       "      <th>2840</th>\n",
       "      <td>2841</td>\n",
       "      <td>impervious</td>\n",
       "    </tr>\n",
       "    <tr>\n",
       "      <th>2841</th>\n",
       "      <td>2842</td>\n",
       "      <td>impervious</td>\n",
       "    </tr>\n",
       "    <tr>\n",
       "      <th>2842</th>\n",
       "      <td>2843</td>\n",
       "      <td>impervious</td>\n",
       "    </tr>\n",
       "    <tr>\n",
       "      <th>2843</th>\n",
       "      <td>2844</td>\n",
       "      <td>impervious</td>\n",
       "    </tr>\n",
       "    <tr>\n",
       "      <th>2844</th>\n",
       "      <td>2845</td>\n",
       "      <td>impervious</td>\n",
       "    </tr>\n",
       "  </tbody>\n",
       "</table>\n",
       "<p>2845 rows × 2 columns</p>\n",
       "</div>"
      ],
      "text/plain": [
       "        ID       class\n",
       "0        1      forest\n",
       "1        2      forest\n",
       "2        3      forest\n",
       "3        4      forest\n",
       "4        5      forest\n",
       "...    ...         ...\n",
       "2840  2841  impervious\n",
       "2841  2842  impervious\n",
       "2842  2843  impervious\n",
       "2843  2844  impervious\n",
       "2844  2845  impervious\n",
       "\n",
       "[2845 rows x 2 columns]"
      ]
     },
     "execution_count": 13,
     "metadata": {},
     "output_type": "execute_result"
    }
   ],
   "source": [
    "result"
   ]
  },
  {
   "cell_type": "code",
   "execution_count": 14,
   "id": "484c74df",
   "metadata": {
    "id": "484c74df",
    "papermill": {
     "duration": 0.020066,
     "end_time": "2025-06-04T15:58:22.206173",
     "exception": false,
     "start_time": "2025-06-04T15:58:22.186107",
     "status": "completed"
    },
    "tags": []
   },
   "outputs": [],
   "source": [
    "result.to_csv(\"submission1.csv\", index=False) #this file will appear under the output section of the right navbar. You need to submit this csv file"
   ]
  }
 ],
 "metadata": {
  "colab": {
   "provenance": []
  },
  "kaggle": {
   "accelerator": "none",
   "dataSources": [
    {
     "databundleVersionId": 12585144,
     "sourceId": 104491,
     "sourceType": "competition"
    }
   ],
   "dockerImageVersionId": 31040,
   "isGpuEnabled": false,
   "isInternetEnabled": true,
   "language": "python",
   "sourceType": "notebook"
  },
  "kernelspec": {
   "display_name": "Python [conda env:base] *",
   "language": "python",
   "name": "conda-base-py"
  },
  "language_info": {
   "codemirror_mode": {
    "name": "ipython",
    "version": 3
   },
   "file_extension": ".py",
   "mimetype": "text/x-python",
   "name": "python",
   "nbconvert_exporter": "python",
   "pygments_lexer": "ipython3",
   "version": "3.12.7"
  },
  "papermill": {
   "default_parameters": {},
   "duration": 12.460836,
   "end_time": "2025-06-04T15:58:22.939774",
   "environment_variables": {},
   "exception": null,
   "input_path": "__notebook__.ipynb",
   "output_path": "__notebook__.ipynb",
   "parameters": {},
   "start_time": "2025-06-04T15:58:10.478938",
   "version": "2.6.0"
  }
 },
 "nbformat": 4,
 "nbformat_minor": 5
}
